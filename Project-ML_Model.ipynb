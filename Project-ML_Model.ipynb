{
 "cells": [
  {
   "cell_type": "code",
   "execution_count": 1,
   "id": "dd66ca48",
   "metadata": {},
   "outputs": [],
   "source": [
    "from sklearn.model_selection import train_test_split\n",
    "from sklearn.linear_model import LogisticRegression\n",
    "from sklearn.svm import SVC\n",
    "from sklearn.neighbors import KNeighborsClassifier \n",
    "from sklearn.tree import DecisionTreeClassifier\n",
    "from sklearn.ensemble import RandomForestClassifier\n",
    "from sklearn.ensemble import GradientBoostingClassifier\n",
    "from sklearn.ensemble import BaggingClassifier\n",
    "import xgboost as xgb\n",
    "from sklearn import metrics\n",
    "import matplotlib.pyplot as plt\n",
    "import pandas as pd"
   ]
  },
  {
   "cell_type": "code",
   "execution_count": 2,
   "id": "c03614f2",
   "metadata": {},
   "outputs": [
    {
     "data": {
      "text/html": [
       "<div>\n",
       "<style scoped>\n",
       "    .dataframe tbody tr th:only-of-type {\n",
       "        vertical-align: middle;\n",
       "    }\n",
       "\n",
       "    .dataframe tbody tr th {\n",
       "        vertical-align: top;\n",
       "    }\n",
       "\n",
       "    .dataframe thead th {\n",
       "        text-align: right;\n",
       "    }\n",
       "</style>\n",
       "<table border=\"1\" class=\"dataframe\">\n",
       "  <thead>\n",
       "    <tr style=\"text-align: right;\">\n",
       "      <th></th>\n",
       "      <th>Age</th>\n",
       "      <th>Gender</th>\n",
       "      <th>self_employed</th>\n",
       "      <th>family_history</th>\n",
       "      <th>treatment</th>\n",
       "      <th>work_interfere</th>\n",
       "      <th>no_employees</th>\n",
       "      <th>remote_work</th>\n",
       "      <th>tech_company</th>\n",
       "      <th>anonymity</th>\n",
       "      <th>...</th>\n",
       "      <th>mental_health_consequence</th>\n",
       "      <th>phys_health_consequence</th>\n",
       "      <th>coworkers</th>\n",
       "      <th>supervisor</th>\n",
       "      <th>mental_health_interview</th>\n",
       "      <th>phys_health_interview</th>\n",
       "      <th>mental_vs_physical</th>\n",
       "      <th>obs_consequence</th>\n",
       "      <th>comprehensive_care</th>\n",
       "      <th>comprehensive_support</th>\n",
       "    </tr>\n",
       "  </thead>\n",
       "  <tbody>\n",
       "    <tr>\n",
       "      <th>0</th>\n",
       "      <td>3</td>\n",
       "      <td>1</td>\n",
       "      <td>0</td>\n",
       "      <td>0</td>\n",
       "      <td>1</td>\n",
       "      <td>1</td>\n",
       "      <td>3</td>\n",
       "      <td>0</td>\n",
       "      <td>1</td>\n",
       "      <td>2</td>\n",
       "      <td>...</td>\n",
       "      <td>1</td>\n",
       "      <td>1</td>\n",
       "      <td>1</td>\n",
       "      <td>2</td>\n",
       "      <td>1</td>\n",
       "      <td>0</td>\n",
       "      <td>2</td>\n",
       "      <td>0</td>\n",
       "      <td>7</td>\n",
       "      <td>5</td>\n",
       "    </tr>\n",
       "    <tr>\n",
       "      <th>1</th>\n",
       "      <td>3</td>\n",
       "      <td>0</td>\n",
       "      <td>0</td>\n",
       "      <td>0</td>\n",
       "      <td>0</td>\n",
       "      <td>2</td>\n",
       "      <td>4</td>\n",
       "      <td>0</td>\n",
       "      <td>0</td>\n",
       "      <td>0</td>\n",
       "      <td>...</td>\n",
       "      <td>0</td>\n",
       "      <td>1</td>\n",
       "      <td>0</td>\n",
       "      <td>0</td>\n",
       "      <td>1</td>\n",
       "      <td>1</td>\n",
       "      <td>0</td>\n",
       "      <td>0</td>\n",
       "      <td>0</td>\n",
       "      <td>0</td>\n",
       "    </tr>\n",
       "    <tr>\n",
       "      <th>2</th>\n",
       "      <td>2</td>\n",
       "      <td>0</td>\n",
       "      <td>0</td>\n",
       "      <td>0</td>\n",
       "      <td>0</td>\n",
       "      <td>2</td>\n",
       "      <td>3</td>\n",
       "      <td>0</td>\n",
       "      <td>1</td>\n",
       "      <td>0</td>\n",
       "      <td>...</td>\n",
       "      <td>1</td>\n",
       "      <td>1</td>\n",
       "      <td>2</td>\n",
       "      <td>2</td>\n",
       "      <td>2</td>\n",
       "      <td>2</td>\n",
       "      <td>1</td>\n",
       "      <td>0</td>\n",
       "      <td>3</td>\n",
       "      <td>4</td>\n",
       "    </tr>\n",
       "    <tr>\n",
       "      <th>3</th>\n",
       "      <td>1</td>\n",
       "      <td>0</td>\n",
       "      <td>0</td>\n",
       "      <td>1</td>\n",
       "      <td>1</td>\n",
       "      <td>1</td>\n",
       "      <td>2</td>\n",
       "      <td>0</td>\n",
       "      <td>1</td>\n",
       "      <td>1</td>\n",
       "      <td>...</td>\n",
       "      <td>2</td>\n",
       "      <td>2</td>\n",
       "      <td>1</td>\n",
       "      <td>0</td>\n",
       "      <td>0</td>\n",
       "      <td>0</td>\n",
       "      <td>1</td>\n",
       "      <td>1</td>\n",
       "      <td>5</td>\n",
       "      <td>4</td>\n",
       "    </tr>\n",
       "    <tr>\n",
       "      <th>4</th>\n",
       "      <td>1</td>\n",
       "      <td>0</td>\n",
       "      <td>0</td>\n",
       "      <td>0</td>\n",
       "      <td>0</td>\n",
       "      <td>0</td>\n",
       "      <td>1</td>\n",
       "      <td>1</td>\n",
       "      <td>1</td>\n",
       "      <td>0</td>\n",
       "      <td>...</td>\n",
       "      <td>1</td>\n",
       "      <td>1</td>\n",
       "      <td>1</td>\n",
       "      <td>2</td>\n",
       "      <td>2</td>\n",
       "      <td>2</td>\n",
       "      <td>0</td>\n",
       "      <td>0</td>\n",
       "      <td>6</td>\n",
       "      <td>0</td>\n",
       "    </tr>\n",
       "    <tr>\n",
       "      <th>...</th>\n",
       "      <td>...</td>\n",
       "      <td>...</td>\n",
       "      <td>...</td>\n",
       "      <td>...</td>\n",
       "      <td>...</td>\n",
       "      <td>...</td>\n",
       "      <td>...</td>\n",
       "      <td>...</td>\n",
       "      <td>...</td>\n",
       "      <td>...</td>\n",
       "      <td>...</td>\n",
       "      <td>...</td>\n",
       "      <td>...</td>\n",
       "      <td>...</td>\n",
       "      <td>...</td>\n",
       "      <td>...</td>\n",
       "      <td>...</td>\n",
       "      <td>...</td>\n",
       "      <td>...</td>\n",
       "      <td>...</td>\n",
       "      <td>...</td>\n",
       "    </tr>\n",
       "    <tr>\n",
       "      <th>1246</th>\n",
       "      <td>0</td>\n",
       "      <td>0</td>\n",
       "      <td>0</td>\n",
       "      <td>0</td>\n",
       "      <td>1</td>\n",
       "      <td>0</td>\n",
       "      <td>2</td>\n",
       "      <td>0</td>\n",
       "      <td>1</td>\n",
       "      <td>0</td>\n",
       "      <td>...</td>\n",
       "      <td>1</td>\n",
       "      <td>1</td>\n",
       "      <td>1</td>\n",
       "      <td>1</td>\n",
       "      <td>1</td>\n",
       "      <td>1</td>\n",
       "      <td>0</td>\n",
       "      <td>0</td>\n",
       "      <td>3</td>\n",
       "      <td>4</td>\n",
       "    </tr>\n",
       "    <tr>\n",
       "      <th>1247</th>\n",
       "      <td>2</td>\n",
       "      <td>0</td>\n",
       "      <td>0</td>\n",
       "      <td>1</td>\n",
       "      <td>1</td>\n",
       "      <td>1</td>\n",
       "      <td>2</td>\n",
       "      <td>1</td>\n",
       "      <td>1</td>\n",
       "      <td>2</td>\n",
       "      <td>...</td>\n",
       "      <td>1</td>\n",
       "      <td>1</td>\n",
       "      <td>1</td>\n",
       "      <td>2</td>\n",
       "      <td>1</td>\n",
       "      <td>1</td>\n",
       "      <td>2</td>\n",
       "      <td>0</td>\n",
       "      <td>8</td>\n",
       "      <td>4</td>\n",
       "    </tr>\n",
       "    <tr>\n",
       "      <th>1248</th>\n",
       "      <td>2</td>\n",
       "      <td>0</td>\n",
       "      <td>0</td>\n",
       "      <td>1</td>\n",
       "      <td>1</td>\n",
       "      <td>3</td>\n",
       "      <td>4</td>\n",
       "      <td>0</td>\n",
       "      <td>1</td>\n",
       "      <td>0</td>\n",
       "      <td>...</td>\n",
       "      <td>2</td>\n",
       "      <td>2</td>\n",
       "      <td>0</td>\n",
       "      <td>0</td>\n",
       "      <td>1</td>\n",
       "      <td>1</td>\n",
       "      <td>1</td>\n",
       "      <td>0</td>\n",
       "      <td>8</td>\n",
       "      <td>4</td>\n",
       "    </tr>\n",
       "    <tr>\n",
       "      <th>1249</th>\n",
       "      <td>3</td>\n",
       "      <td>1</td>\n",
       "      <td>0</td>\n",
       "      <td>0</td>\n",
       "      <td>0</td>\n",
       "      <td>0</td>\n",
       "      <td>1</td>\n",
       "      <td>1</td>\n",
       "      <td>1</td>\n",
       "      <td>0</td>\n",
       "      <td>...</td>\n",
       "      <td>2</td>\n",
       "      <td>1</td>\n",
       "      <td>0</td>\n",
       "      <td>0</td>\n",
       "      <td>1</td>\n",
       "      <td>1</td>\n",
       "      <td>1</td>\n",
       "      <td>0</td>\n",
       "      <td>5</td>\n",
       "      <td>4</td>\n",
       "    </tr>\n",
       "    <tr>\n",
       "      <th>1250</th>\n",
       "      <td>0</td>\n",
       "      <td>0</td>\n",
       "      <td>0</td>\n",
       "      <td>1</td>\n",
       "      <td>1</td>\n",
       "      <td>3</td>\n",
       "      <td>2</td>\n",
       "      <td>0</td>\n",
       "      <td>0</td>\n",
       "      <td>2</td>\n",
       "      <td>...</td>\n",
       "      <td>0</td>\n",
       "      <td>1</td>\n",
       "      <td>1</td>\n",
       "      <td>0</td>\n",
       "      <td>1</td>\n",
       "      <td>1</td>\n",
       "      <td>0</td>\n",
       "      <td>0</td>\n",
       "      <td>8</td>\n",
       "      <td>4</td>\n",
       "    </tr>\n",
       "  </tbody>\n",
       "</table>\n",
       "<p>1251 rows × 21 columns</p>\n",
       "</div>"
      ],
      "text/plain": [
       "      Age  Gender  self_employed  family_history  treatment  work_interfere  \\\n",
       "0       3       1              0               0          1               1   \n",
       "1       3       0              0               0          0               2   \n",
       "2       2       0              0               0          0               2   \n",
       "3       1       0              0               1          1               1   \n",
       "4       1       0              0               0          0               0   \n",
       "...   ...     ...            ...             ...        ...             ...   \n",
       "1246    0       0              0               0          1               0   \n",
       "1247    2       0              0               1          1               1   \n",
       "1248    2       0              0               1          1               3   \n",
       "1249    3       1              0               0          0               0   \n",
       "1250    0       0              0               1          1               3   \n",
       "\n",
       "      no_employees  remote_work  tech_company  anonymity  ...  \\\n",
       "0                3            0             1          2  ...   \n",
       "1                4            0             0          0  ...   \n",
       "2                3            0             1          0  ...   \n",
       "3                2            0             1          1  ...   \n",
       "4                1            1             1          0  ...   \n",
       "...            ...          ...           ...        ...  ...   \n",
       "1246             2            0             1          0  ...   \n",
       "1247             2            1             1          2  ...   \n",
       "1248             4            0             1          0  ...   \n",
       "1249             1            1             1          0  ...   \n",
       "1250             2            0             0          2  ...   \n",
       "\n",
       "      mental_health_consequence  phys_health_consequence  coworkers  \\\n",
       "0                             1                        1          1   \n",
       "1                             0                        1          0   \n",
       "2                             1                        1          2   \n",
       "3                             2                        2          1   \n",
       "4                             1                        1          1   \n",
       "...                         ...                      ...        ...   \n",
       "1246                          1                        1          1   \n",
       "1247                          1                        1          1   \n",
       "1248                          2                        2          0   \n",
       "1249                          2                        1          0   \n",
       "1250                          0                        1          1   \n",
       "\n",
       "      supervisor  mental_health_interview  phys_health_interview  \\\n",
       "0              2                        1                      0   \n",
       "1              0                        1                      1   \n",
       "2              2                        2                      2   \n",
       "3              0                        0                      0   \n",
       "4              2                        2                      2   \n",
       "...          ...                      ...                    ...   \n",
       "1246           1                        1                      1   \n",
       "1247           2                        1                      1   \n",
       "1248           0                        1                      1   \n",
       "1249           0                        1                      1   \n",
       "1250           0                        1                      1   \n",
       "\n",
       "      mental_vs_physical  obs_consequence  comprehensive_care  \\\n",
       "0                      2                0                   7   \n",
       "1                      0                0                   0   \n",
       "2                      1                0                   3   \n",
       "3                      1                1                   5   \n",
       "4                      0                0                   6   \n",
       "...                  ...              ...                 ...   \n",
       "1246                   0                0                   3   \n",
       "1247                   2                0                   8   \n",
       "1248                   1                0                   8   \n",
       "1249                   1                0                   5   \n",
       "1250                   0                0                   8   \n",
       "\n",
       "      comprehensive_support  \n",
       "0                         5  \n",
       "1                         0  \n",
       "2                         4  \n",
       "3                         4  \n",
       "4                         0  \n",
       "...                     ...  \n",
       "1246                      4  \n",
       "1247                      4  \n",
       "1248                      4  \n",
       "1249                      4  \n",
       "1250                      4  \n",
       "\n",
       "[1251 rows x 21 columns]"
      ]
     },
     "execution_count": 2,
     "metadata": {},
     "output_type": "execute_result"
    }
   ],
   "source": [
    "df=pd.read_csv(\"UpdatedSurvey.csv\")\n",
    "df=df.drop([\"Unnamed: 0\"], axis=1)\n",
    "df"
   ]
  },
  {
   "cell_type": "code",
   "execution_count": 3,
   "id": "202fcf14",
   "metadata": {},
   "outputs": [
    {
     "data": {
      "image/png": "[encoded data removed]",
      "text/plain": [
       "<Figure size 432x288 with 2 Axes>"
      ]
     },
     "metadata": {
      "needs_background": "light"
     },
     "output_type": "display_data"
    },
    {
     "name": "stdout",
     "output_type": "stream",
     "text": [
      "Classification Report of Logistic Regression:\n",
      "               precision    recall  f1-score   support\n",
      "\n",
      "           0       0.81      0.84      0.82       137\n",
      "           1       0.84      0.81      0.82       139\n",
      "\n",
      "    accuracy                           0.82       276\n",
      "   macro avg       0.82      0.82      0.82       276\n",
      "weighted avg       0.82      0.82      0.82       276\n",
      "\n",
      "Accuracy of Logistic Regression: 0.822463768115942\n"
     ]
    }
   ],
   "source": [
    "from sklearn.preprocessing import StandardScaler\n",
    "scaler = StandardScaler()\n",
    "X=df.drop(columns=['treatment'])\n",
    "X = scaler.fit_transform(X)\n",
    "y= df['treatment']\n",
    "X_train, X_test, y_train, y_test= train_test_split(X, y, test_size=0.22, stratify=y, random_state=42)\n",
    "modelL = LogisticRegression()\n",
    "modelL.fit(X_train, y_train)\n",
    "predictionL = modelL.predict(X_test)\n",
    "cmL= metrics.confusion_matrix(y_test, predictionL)\n",
    "cm_disL = metrics.ConfusionMatrixDisplay(confusion_matrix=cmL, display_labels=df['treatment'].unique())\n",
    "cm_disL.plot()\n",
    "plt.show()\n",
    "classL= metrics.classification_report(y_test, predictionL)\n",
    "print('Classification Report of Logistic Regression:\\n', classL)\n",
    "scoreL= metrics.accuracy_score(y_test, predictionL)\n",
    "print('Accuracy of Logistic Regression:', scoreL)"
   ]
  },
  {
   "cell_type": "code",
   "execution_count": 19,
   "id": "e1c7b646",
   "metadata": {},
   "outputs": [
    {
     "data": {
      "image/png": "[encoded data removed]",
      "text/plain": [
       "<Figure size 432x288 with 2 Axes>"
      ]
     },
     "metadata": {
      "needs_background": "light"
     },
     "output_type": "display_data"
    },
    {
     "name": "stdout",
     "output_type": "stream",
     "text": [
      "Classification Report of SVC:\n",
      "               precision    recall  f1-score   support\n",
      "\n",
      "           0       0.87      0.75      0.80       137\n",
      "           1       0.78      0.88      0.83       139\n",
      "\n",
      "    accuracy                           0.82       276\n",
      "   macro avg       0.82      0.82      0.82       276\n",
      "weighted avg       0.82      0.82      0.82       276\n",
      "\n",
      "Accuracy of SVC: 0.8188405797101449\n"
     ]
    }
   ],
   "source": [
    "modelS = SVC()\n",
    "modelS.fit(X_train, y_train)\n",
    "predictionS = modelS.predict(X_test)\n",
    "cmS= metrics.confusion_matrix(y_test, predictionS)\n",
    "cm_disS = metrics.ConfusionMatrixDisplay(confusion_matrix=cmS, display_labels=df['treatment'].unique())\n",
    "cm_disS.plot()\n",
    "plt.show()\n",
    "classS= metrics.classification_report(y_test, predictionS)\n",
    "print('Classification Report of SVC:\\n', classS)\n",
    "scoreS= metrics.accuracy_score(y_test, predictionS)\n",
    "print('Accuracy of SVC:', scoreS)"
   ]
  },
  {
   "cell_type": "code",
   "execution_count": 20,
   "id": "830c89a7",
   "metadata": {},
   "outputs": [
    {
     "data": {
      "image/png": "[encoded data removed]",
      "text/plain": [
       "<Figure size 432x288 with 2 Axes>"
      ]
     },
     "metadata": {
      "needs_background": "light"
     },
     "output_type": "display_data"
    },
    {
     "name": "stdout",
     "output_type": "stream",
     "text": [
      "Classification Report of SVC Linear Kernel:\n",
      "               precision    recall  f1-score   support\n",
      "\n",
      "           0       0.85      0.77      0.80       137\n",
      "           1       0.79      0.86      0.82       139\n",
      "\n",
      "    accuracy                           0.82       276\n",
      "   macro avg       0.82      0.81      0.81       276\n",
      "weighted avg       0.82      0.82      0.81       276\n",
      "\n",
      "Accuracy of SVC Linear Trick: 0.8152173913043478\n"
     ]
    }
   ],
   "source": [
    "modelSt = SVC(kernel='linear')\n",
    "modelSt.fit(X_train, y_train)\n",
    "predictionSt = modelSt.predict(X_test)\n",
    "cmSt= metrics.confusion_matrix(y_test, predictionSt)\n",
    "cm_disSt = metrics.ConfusionMatrixDisplay(confusion_matrix=cmSt, display_labels=df['treatment'].unique())\n",
    "cm_disSt.plot()\n",
    "plt.show()\n",
    "classSt= metrics.classification_report(y_test, predictionSt)\n",
    "print('Classification Report of SVC Linear Kernel:\\n', classSt)\n",
    "scoreSt= metrics.accuracy_score(y_test, predictionSt)\n",
    "print('Accuracy of SVC Linear Trick:', scoreSt)"
   ]
  },
  {
   "cell_type": "code",
   "execution_count": 21,
   "id": "64c123d0",
   "metadata": {},
   "outputs": [
    {
     "data": {
      "image/png": "[encoded data removed]",
      "text/plain": [
       "<Figure size 1440x864 with 1 Axes>"
      ]
     },
     "metadata": {
      "needs_background": "light"
     },
     "output_type": "display_data"
    }
   ],
   "source": [
    "k_values = list(range(1, 20)) \n",
    "miss_scores = []\n",
    "for k in k_values:\n",
    "    model = KNeighborsClassifier(n_neighbors=k)\n",
    "    model.fit(X_train, y_train)\n",
    "    y_pred = model.predict(X_test)\n",
    "    accuracy = metrics.accuracy_score(y_test, y_pred)\n",
    "    misclass=1-accuracy\n",
    "    miss_scores.append(misclass)\n",
    "\n",
    "\n",
    "plt.figure(figsize=(20, 12))\n",
    "plt.plot(k_values, miss_scores, marker='o', linestyle='-', color='b')\n",
    "plt.title('Elbow Graph for KNN')\n",
    "plt.xlabel('Number of Neighbors (k)')\n",
    "plt.ylabel('Missclassification')\n",
    "plt.xticks(k_values)\n",
    "plt.show()"
   ]
  },
  {
   "cell_type": "code",
   "execution_count": 22,
   "id": "1dcd85c8",
   "metadata": {},
   "outputs": [
    {
     "data": {
      "image/png": "[encoded data removed]",
      "text/plain": [
       "<Figure size 432x288 with 2 Axes>"
      ]
     },
     "metadata": {
      "needs_background": "light"
     },
     "output_type": "display_data"
    },
    {
     "name": "stdout",
     "output_type": "stream",
     "text": [
      "Classification Report of KNN:\n",
      "               precision    recall  f1-score   support\n",
      "\n",
      "           0       0.76      0.87      0.81       137\n",
      "           1       0.85      0.73      0.78       139\n",
      "\n",
      "    accuracy                           0.80       276\n",
      "   macro avg       0.80      0.80      0.80       276\n",
      "weighted avg       0.80      0.80      0.80       276\n",
      "\n",
      "Accuracy of KNN: 0.7971014492753623\n"
     ]
    }
   ],
   "source": [
    "modelK = KNeighborsClassifier(n_neighbors=9)\n",
    "modelK.fit(X_train, y_train)\n",
    "predictionK = modelK.predict(X_test)\n",
    "cmK= metrics.confusion_matrix(y_test, predictionK)\n",
    "cm_disK = metrics.ConfusionMatrixDisplay(confusion_matrix=cmK, display_labels=df['treatment'].unique())\n",
    "cm_disK.plot()\n",
    "plt.show()\n",
    "classK= metrics.classification_report(y_test, predictionK)\n",
    "print('Classification Report of KNN:\\n', classK)\n",
    "scoreK= metrics.accuracy_score(y_test, predictionK)\n",
    "print('Accuracy of KNN:', scoreK)"
   ]
  },
  {
   "cell_type": "code",
   "execution_count": 23,
   "id": "af9b46cb",
   "metadata": {},
   "outputs": [
    {
     "data": {
      "image/png": "[encoded data removed]",
      "text/plain": [
       "<Figure size 432x288 with 2 Axes>"
      ]
     },
     "metadata": {
      "needs_background": "light"
     },
     "output_type": "display_data"
    },
    {
     "name": "stdout",
     "output_type": "stream",
     "text": [
      "Classification Report of Decision Tree Classifier:\n",
      "               precision    recall  f1-score   support\n",
      "\n",
      "           0       0.76      0.69      0.72       137\n",
      "           1       0.72      0.78      0.75       139\n",
      "\n",
      "    accuracy                           0.74       276\n",
      "   macro avg       0.74      0.74      0.73       276\n",
      "weighted avg       0.74      0.74      0.73       276\n",
      "\n",
      "Accuracy of Decision Tree Classifier: 0.7355072463768116\n"
     ]
    }
   ],
   "source": [
    "modelD = DecisionTreeClassifier()\n",
    "modelD.fit(X_train, y_train)\n",
    "predictionD = modelD.predict(X_test)\n",
    "cmD= metrics.confusion_matrix(y_test, predictionD)\n",
    "cm_disD = metrics.ConfusionMatrixDisplay(confusion_matrix=cmD, display_labels=df['treatment'].unique())\n",
    "cm_disD.plot()\n",
    "plt.show()\n",
    "classD= metrics.classification_report(y_test, predictionD)\n",
    "print('Classification Report of Decision Tree Classifier:\\n', classD)\n",
    "scoreD= metrics.accuracy_score(y_test, predictionD)\n",
    "print('Accuracy of Decision Tree Classifier:', scoreD)"
   ]
  },
  {
   "cell_type": "code",
   "execution_count": 24,
   "id": "ca5fde86",
   "metadata": {},
   "outputs": [
    {
     "data": {
      "image/png": "[encoded data removed]",
      "text/plain": [
       "<Figure size 432x288 with 2 Axes>"
      ]
     },
     "metadata": {
      "needs_background": "light"
     },
     "output_type": "display_data"
    },
    {
     "name": "stdout",
     "output_type": "stream",
     "text": [
      "Classification Report of Random Forest Classifier:\n",
      "               precision    recall  f1-score   support\n",
      "\n",
      "           0       0.88      0.78      0.83       137\n",
      "           1       0.81      0.89      0.85       139\n",
      "\n",
      "    accuracy                           0.84       276\n",
      "   macro avg       0.84      0.84      0.84       276\n",
      "weighted avg       0.84      0.84      0.84       276\n",
      "\n",
      "Accuracy of Random Forest Classifier: 0.8369565217391305\n"
     ]
    }
   ],
   "source": [
    "modelR = RandomForestClassifier(n_estimators=300, random_state=43)\n",
    "modelR.fit(X_train, y_train)\n",
    "predictionR = modelR.predict(X_test)\n",
    "cmR= metrics.confusion_matrix(y_test, predictionR)\n",
    "cm_disR = metrics.ConfusionMatrixDisplay(confusion_matrix=cmR, display_labels=df['treatment'].unique())\n",
    "cm_disR.plot()\n",
    "plt.show()\n",
    "classR= metrics.classification_report(y_test, predictionR)\n",
    "print('Classification Report of Random Forest Classifier:\\n', classR)\n",
    "scoreR= metrics.accuracy_score(y_test, predictionR)\n",
    "print('Accuracy of Random Forest Classifier:', scoreR)"
   ]
  },
  {
   "cell_type": "code",
   "execution_count": 25,
   "id": "a32e51c3",
   "metadata": {},
   "outputs": [
    {
     "data": {
      "image/png": "[encoded data removed]",
      "text/plain": [
       "<Figure size 432x288 with 2 Axes>"
      ]
     },
     "metadata": {
      "needs_background": "light"
     },
     "output_type": "display_data"
    },
    {
     "name": "stdout",
     "output_type": "stream",
     "text": [
      "Classification Report of Bagging Classifier:\n",
      "               precision    recall  f1-score   support\n",
      "\n",
      "           0       0.88      0.76      0.82       137\n",
      "           1       0.79      0.90      0.84       139\n",
      "\n",
      "    accuracy                           0.83       276\n",
      "   macro avg       0.84      0.83      0.83       276\n",
      "weighted avg       0.84      0.83      0.83       276\n",
      "\n",
      "Accuracy of Bagging Classifier: 0.8297101449275363\n"
     ]
    }
   ],
   "source": [
    "bc = RandomForestClassifier()\n",
    "modelB = BaggingClassifier(bc, n_estimators=10, random_state=42)\n",
    "modelB.fit(X_train, y_train)\n",
    "predictionB = modelB.predict(X_test)\n",
    "cmB= metrics.confusion_matrix(y_test, predictionB)\n",
    "cm_disgB = metrics.ConfusionMatrixDisplay(confusion_matrix=cmB, display_labels=df['treatment'].unique())\n",
    "cm_disgB.plot()\n",
    "plt.show()\n",
    "classB= metrics.classification_report(y_test, predictionB)\n",
    "print('Classification Report of Bagging Classifier:\\n', classB)\n",
    "scoreB= metrics.accuracy_score(y_test, predictionB)\n",
    "print('Accuracy of Bagging Classifier:', scoreB)"
   ]
  },
  {
   "cell_type": "code",
   "execution_count": 26,
   "id": "4440630f",
   "metadata": {},
   "outputs": [
    {
     "data": {
      "image/png": "[encoded data removed]",
      "text/plain": [
       "<Figure size 432x288 with 2 Axes>"
      ]
     },
     "metadata": {
      "needs_background": "light"
     },
     "output_type": "display_data"
    },
    {
     "name": "stdout",
     "output_type": "stream",
     "text": [
      "Classification Report of Gradient Boosting:\n",
      "               precision    recall  f1-score   support\n",
      "\n",
      "           0       0.87      0.80      0.83       137\n",
      "           1       0.82      0.88      0.85       139\n",
      "\n",
      "    accuracy                           0.84       276\n",
      "   macro avg       0.84      0.84      0.84       276\n",
      "weighted avg       0.84      0.84      0.84       276\n",
      "\n",
      "Accuracy of Gradient Boosting: 0.8405797101449275\n"
     ]
    }
   ],
   "source": [
    "modelG = GradientBoostingClassifier(n_estimators=100, learning_rate=0.1, random_state=42)\n",
    "modelG.fit(X_train, y_train)\n",
    "predictionG = modelG.predict(X_test)\n",
    "cmG= metrics.confusion_matrix(y_test, predictionG)\n",
    "cm_disG = metrics.ConfusionMatrixDisplay(confusion_matrix=cmG, display_labels=df['treatment'].unique())\n",
    "cm_disG.plot()\n",
    "plt.show()\n",
    "classG= metrics.classification_report(y_test, predictionG)\n",
    "print('Classification Report of Gradient Boosting:\\n', classG)\n",
    "scoreG= metrics.accuracy_score(y_test, predictionG)\n",
    "print('Accuracy of Gradient Boosting:', scoreG)"
   ]
  },
  {
   "cell_type": "code",
   "execution_count": 27,
   "id": "83712400",
   "metadata": {},
   "outputs": [
    {
     "data": {
      "image/png": "[encoded data removed]",
      "text/plain": [
       "<Figure size 432x288 with 2 Axes>"
      ]
     },
     "metadata": {
      "needs_background": "light"
     },
     "output_type": "display_data"
    },
    {
     "name": "stdout",
     "output_type": "stream",
     "text": [
      "Classification Report of XG Boost:\n",
      "               precision    recall  f1-score   support\n",
      "\n",
      "           0       0.84      0.79      0.82       137\n",
      "           1       0.80      0.86      0.83       139\n",
      "\n",
      "    accuracy                           0.82       276\n",
      "   macro avg       0.82      0.82      0.82       276\n",
      "weighted avg       0.82      0.82      0.82       276\n",
      "\n",
      "Accuracy of XG Boost: 0.822463768115942\n"
     ]
    }
   ],
   "source": [
    "modelX = xgb.XGBClassifier(objective=\"binary:logistic\", random_state=42)\n",
    "modelX.fit(X_train, y_train)\n",
    "predictionX = modelX.predict(X_test)\n",
    "cmX= metrics.confusion_matrix(y_test, predictionX)\n",
    "cm_disgX = metrics.ConfusionMatrixDisplay(confusion_matrix=cmX, display_labels=df['treatment'].unique())\n",
    "cm_disgX.plot()\n",
    "plt.show()\n",
    "classX= metrics.classification_report(y_test, predictionX)\n",
    "print('Classification Report of XG Boost:\\n', classX)\n",
    "scoreX= metrics.accuracy_score(y_test, predictionX)\n",
    "print('Accuracy of XG Boost:', scoreX)"
   ]
  },
  {
   "cell_type": "code",
   "execution_count": 28,
   "id": "323dde7e",
   "metadata": {},
   "outputs": [
    {
     "name": "stdout",
     "output_type": "stream",
     "text": [
      "Epoch 1/15\n",
      "16/16 [==============================] - 2s 21ms/step - loss: 0.6821 - accuracy: 0.6171 - val_loss: 0.6610 - val_accuracy: 0.7163\n",
      "Epoch 2/15\n",
      "16/16 [==============================] - 0s 5ms/step - loss: 0.6383 - accuracy: 0.7395 - val_loss: 0.6189 - val_accuracy: 0.7070\n",
      "Epoch 3/15\n",
      "16/16 [==============================] - 0s 5ms/step - loss: 0.5723 - accuracy: 0.7447 - val_loss: 0.5858 - val_accuracy: 0.7163\n",
      "Epoch 4/15\n",
      "16/16 [==============================] - 0s 4ms/step - loss: 0.5130 - accuracy: 0.7724 - val_loss: 0.5828 - val_accuracy: 0.7163\n",
      "Epoch 5/15\n",
      "16/16 [==============================] - 0s 5ms/step - loss: 0.4749 - accuracy: 0.7816 - val_loss: 0.5726 - val_accuracy: 0.7209\n",
      "Epoch 6/15\n",
      "16/16 [==============================] - 0s 6ms/step - loss: 0.4489 - accuracy: 0.8079 - val_loss: 0.5699 - val_accuracy: 0.7395\n",
      "Epoch 7/15\n",
      "16/16 [==============================] - 0s 6ms/step - loss: 0.4340 - accuracy: 0.8105 - val_loss: 0.5588 - val_accuracy: 0.7395\n",
      "Epoch 8/15\n",
      "16/16 [==============================] - 0s 5ms/step - loss: 0.4224 - accuracy: 0.8184 - val_loss: 0.5438 - val_accuracy: 0.7535\n",
      "Epoch 9/15\n",
      "16/16 [==============================] - 0s 5ms/step - loss: 0.4126 - accuracy: 0.8224 - val_loss: 0.5555 - val_accuracy: 0.7488\n",
      "Epoch 10/15\n",
      "16/16 [==============================] - 0s 5ms/step - loss: 0.4067 - accuracy: 0.8316 - val_loss: 0.5588 - val_accuracy: 0.7442\n",
      "Epoch 11/15\n",
      "16/16 [==============================] - 0s 6ms/step - loss: 0.4005 - accuracy: 0.8250 - val_loss: 0.5516 - val_accuracy: 0.7488\n",
      "Epoch 12/15\n",
      "16/16 [==============================] - 0s 6ms/step - loss: 0.3954 - accuracy: 0.8342 - val_loss: 0.5480 - val_accuracy: 0.7581\n",
      "Epoch 13/15\n",
      "16/16 [==============================] - 0s 6ms/step - loss: 0.3912 - accuracy: 0.8382 - val_loss: 0.5423 - val_accuracy: 0.7628\n",
      "Epoch 14/15\n",
      "16/16 [==============================] - 0s 5ms/step - loss: 0.3858 - accuracy: 0.8382 - val_loss: 0.5451 - val_accuracy: 0.7628\n",
      "Epoch 15/15\n",
      "16/16 [==============================] - 0s 5ms/step - loss: 0.3844 - accuracy: 0.8355 - val_loss: 0.5505 - val_accuracy: 0.7442\n"
     ]
    },
    {
     "data": {
      "text/plain": [
       "<keras.src.callbacks.History at 0x1c387834670>"
      ]
     },
     "execution_count": 28,
     "metadata": {},
     "output_type": "execute_result"
    }
   ],
   "source": [
    "from tensorflow.keras.models import Sequential\n",
    "from tensorflow.keras.layers import Dense\n",
    "from tensorflow.keras.layers import Dropout\n",
    "model = Sequential()\n",
    "model.add(Dense(20, input_dim=X_train.shape[1], activation='swish'))\n",
    "model.add(Dense(32, activation='swish'))\n",
    "model.add(Dense(64, activation='swish'))\n",
    "model.add(Dense(32, activation='swish'))\n",
    "model.add(Dense(16, activation='swish'))\n",
    "model.add(Dense(2, activation='sigmoid'))\n",
    "model.compile(optimizer='adam', loss='sparse_categorical_crossentropy', metrics=['accuracy'])\n",
    "model.fit(X_train, y_train, epochs=15, batch_size=50, validation_split=0.22)"
   ]
  },
  {
   "cell_type": "code",
   "execution_count": 29,
   "id": "49fe8658",
   "metadata": {},
   "outputs": [
    {
     "name": "stdout",
     "output_type": "stream",
     "text": [
      "9/9 [==============================] - 0s 2ms/step - loss: 0.4596 - accuracy: 0.8188\n",
      "Accuracy of Deep Learning Model:  0.8188405632972717\n"
     ]
    }
   ],
   "source": [
    "loss, accuracy = model.evaluate(X_test, y_test)\n",
    "scoreDL = accuracy\n",
    "print(\"Accuracy of Deep Learning Model: \", scoreDL)"
   ]
  },
  {
   "cell_type": "code",
   "execution_count": 30,
   "id": "d881487b",
   "metadata": {},
   "outputs": [
    {
     "data": {
      "text/plain": [
       "Text(0, 0.5, 'Accuracy')"
      ]
     },
     "execution_count": 30,
     "metadata": {},
     "output_type": "execute_result"
    },
    {
     "data": {
      "image/png": "[encoded data removed]",
      "text/plain": [
       "<Figure size 1440x864 with 1 Axes>"
      ]
     },
     "metadata": {
      "needs_background": "light"
     },
     "output_type": "display_data"
    }
   ],
   "source": [
    "import numpy as np\n",
    "X=['Logistic Regression', 'SVM', 'SVM (Kernel Trick)', 'K-Nearest Neighbors', 'Decision Tree', 'Random Forest', 'Bagging', 'Gradient Boost', 'XG Boost', 'Deep Learning']\n",
    "accuracy_matrix=[scoreL, scoreS, scoreSt, scoreK, scoreD, scoreR, scoreB, scoreG, scoreX, scoreDL]\n",
    "X_axis = np.arange(len(X)) \n",
    "plt.figure(figsize=(20, 12))\n",
    "plt.bar(X_axis, accuracy_matrix, label = 'Accuracy Scores of Models') \n",
    "plt.xticks(X_axis, X) \n",
    "plt.xlabel(\"Models\") \n",
    "plt.ylabel(\"Accuracy\") "
   ]
  },
  {
   "cell_type": "code",
   "execution_count": null,
   "id": "3a2e1741",
   "metadata": {},
   "outputs": [],
   "source": []
  }
 ],
 "metadata": {
  "kernelspec": {
   "display_name": "Python 3 (ipykernel)",
   "language": "python",
   "name": "python3"
  },
  "language_info": {
   "codemirror_mode": {
    "name": "ipython",
    "version": 3
   },
   "file_extension": ".py",
   "mimetype": "text/x-python",
   "name": "python",
   "nbconvert_exporter": "python",
   "pygments_lexer": "ipython3",
   "version": "3.9.12"
  }
 },
 "nbformat": 4,
 "nbformat_minor": 5
}
